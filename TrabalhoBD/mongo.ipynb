{
 "cells": [
  {
   "cell_type": "code",
   "execution_count": 4,
   "metadata": {},
   "outputs": [],
   "source": [
    "# Importa a biblioteca do MongoDB\n",
    "from pymongo import MongoClient\n",
    "\n",
    "# Importar para usos futuros de inserção\n",
    "import datetime\n",
    "import tkinter.colorchooser\n",
    "\n",
    "# Cria uma instância do cliente MongoDB\n",
    "client = MongoClient()\n",
    "\n",
    "# Conecta-se ao servidor local no MongoDB\n",
    "db = client.local"
   ]
  },
  {
   "cell_type": "code",
   "execution_count": 5,
   "metadata": {},
   "outputs": [],
   "source": [
    "# Cria a coleção alunos ou apenas seleciona ela caso ela já exista\n",
    "alunos = db['Alunos']"
   ]
  },
  {
   "cell_type": "code",
   "execution_count": 5,
   "metadata": {},
   "outputs": [
    {
     "data": {
      "text/plain": [
       "InsertOneResult(ObjectId('655136dbe72e667fd3525095'), acknowledged=True)"
      ]
     },
     "execution_count": 5,
     "metadata": {},
     "output_type": "execute_result"
    }
   ],
   "source": [
    "# Inserir uma linha\n",
    "alunos.insert_one({'aluno': \"Pedro Henrique Botter\", 'nascimento': datetime.datetime(2004, 11, 1), 'sexo':'M', 'turma': \"1S2023\", 'cor_favorita': '#fdb3ea'})"
   ]
  },
  {
   "cell_type": "code",
   "execution_count": 6,
   "metadata": {},
   "outputs": [
    {
     "data": {
      "text/plain": [
       "InsertManyResult([ObjectId('65513c99e72e667fd3525096'), ObjectId('65513c99e72e667fd3525097')], acknowledged=True)"
      ]
     },
     "execution_count": 6,
     "metadata": {},
     "output_type": "execute_result"
    }
   ],
   "source": [
    "# Inserir várias linhas\n",
    "alunos.insert_many([\n",
    "    {'aluno': \"Grasiely da Silva Amaral\", 'nascimento': datetime.datetime(2005, 3, 28), 'sexo':'F', 'turma': \"1S2023\", 'cor_favorita': '#000000'},\n",
    "    {'aluno': \"Rodrigo Flores Duarte\", 'nascimento': datetime.datetime(2000, 3, 13), 'sexo':'M', 'turma': \"1S2023\", 'cor_favorita': '#4272f5'}]\n",
    ")"
   ]
  },
  {
   "cell_type": "code",
   "execution_count": 14,
   "metadata": {},
   "outputs": [
    {
     "name": "stdout",
     "output_type": "stream",
     "text": [
      "{'_id': ObjectId('655136dbe72e667fd3525095'), 'aluno': 'Pedro Henrique Botter', 'nascimento': datetime.datetime(2004, 11, 1, 0, 0), 'sexo': 'M', 'cor_favorita': '#fdb3ea'}\n",
      "{'_id': ObjectId('65513c99e72e667fd3525096'), 'aluno': 'Grasiely da Silva Amaral', 'nascimento': datetime.datetime(2005, 3, 28, 0, 0), 'sexo': 'F', 'cor_favorita': '#0e4db3'}\n",
      "{'_id': ObjectId('65513c99e72e667fd3525097'), 'aluno': 'Rodrigo Flores Duarte', 'nascimento': datetime.datetime(2000, 3, 13, 0, 0), 'sexo': 'M', 'cor_favorita': '#4272f5'}\n"
     ]
    }
   ],
   "source": [
    "# Mostrar a tabela, é necessário colocar os 1 para que não ocorram erros \n",
    "for x in alunos.find({},{ \"aluno\": 1, 'nascimento': 1, \"sexo\": 1, \"turma\":1, 'cor_favorita':1}):\n",
    "  print(x)"
   ]
  },
  {
   "cell_type": "code",
   "execution_count": 12,
   "metadata": {},
   "outputs": [
    {
     "data": {
      "text/plain": [
       "UpdateResult({'n': 1, 'nModified': 1, 'ok': 1.0, 'updatedExisting': True}, acknowledged=True)"
      ]
     },
     "execution_count": 12,
     "metadata": {},
     "output_type": "execute_result"
    }
   ],
   "source": [
    "# Atualizar dados de linhas que possuem o aluno especifíco \n",
    "alunos.update_one({'aluno':'Grasiely da Silva Amaral'}, {\"$set\":{'cor_favorita': \"#0e4db3\"}})"
   ]
  },
  {
   "cell_type": "code",
   "execution_count": 13,
   "metadata": {},
   "outputs": [
    {
     "name": "stdout",
     "output_type": "stream",
     "text": [
      "{'_id': ObjectId('655136dbe72e667fd3525095'), 'aluno': 'Pedro Henrique Botter', 'nascimento': datetime.datetime(2004, 11, 1, 0, 0), 'sexo': 'M', 'turma': '1S2023', 'cor_favorita': '#fdb3ea'}\n",
      "{'_id': ObjectId('65513c99e72e667fd3525096'), 'aluno': 'Grasiely da Silva Amaral', 'nascimento': datetime.datetime(2005, 3, 28, 0, 0), 'sexo': 'F', 'turma': '1S2023', 'cor_favorita': '#0e4db3'}\n",
      "{'_id': ObjectId('65513c99e72e667fd3525097'), 'aluno': 'Rodrigo Flores Duarte', 'nascimento': datetime.datetime(2000, 3, 13, 0, 0), 'sexo': 'M', 'turma': '1S2023', 'cor_favorita': '#4272f5'}\n"
     ]
    }
   ],
   "source": [
    "# Mostrar a tabela, é necessário colocar os 1 para que não ocorram erros \n",
    "for x in alunos.find({},{ \"aluno\": 1, 'nascimento': 1, \"sexo\": 1, \"turma\":1, 'cor_favorita':1}):\n",
    "  print(x)"
   ]
  },
  {
   "cell_type": "code",
   "execution_count": 15,
   "metadata": {},
   "outputs": [
    {
     "ename": "InvalidDocument",
     "evalue": "cannot encode object: datetime.date(1992, 8, 26), of type: <class 'datetime.date'>",
     "output_type": "error",
     "traceback": [
      "\u001b[1;31m---------------------------------------------------------------------------\u001b[0m",
      "\u001b[1;31mInvalidDocument\u001b[0m                           Traceback (most recent call last)",
      "\u001b[1;32mc:\\Users\\Pedro\\Desktop\\mongodb\\mongo.ipynb Cell 8\u001b[0m line \u001b[0;36m<cell line: 3>\u001b[1;34m()\u001b[0m\n\u001b[0;32m      <a href='vscode-notebook-cell:/c%3A/Users/Pedro/Desktop/mongodb/mongo.ipynb#X10sZmlsZQ%3D%3D?line=0'>1</a>\u001b[0m \u001b[39m#tkinter.colorchooser.askcolor()[1]\u001b[39;00m\n\u001b[0;32m      <a href='vscode-notebook-cell:/c%3A/Users/Pedro/Desktop/mongodb/mongo.ipynb#X10sZmlsZQ%3D%3D?line=1'>2</a>\u001b[0m data \u001b[39m=\u001b[39m datetime\u001b[39m.\u001b[39mdatetime(\u001b[39mint\u001b[39m(\u001b[39minput\u001b[39m(\u001b[39m\"\u001b[39m\u001b[39mAno de nascimento: \u001b[39m\u001b[39m\"\u001b[39m)), \u001b[39mint\u001b[39m(\u001b[39minput\u001b[39m(\u001b[39m\"\u001b[39m\u001b[39mMês de nascimento: \u001b[39m\u001b[39m\"\u001b[39m)), \u001b[39mint\u001b[39m(\u001b[39minput\u001b[39m(\u001b[39m\"\u001b[39m\u001b[39mDia de nascimento: \u001b[39m\u001b[39m\"\u001b[39m)))\u001b[39m.\u001b[39mdate()\n\u001b[1;32m----> <a href='vscode-notebook-cell:/c%3A/Users/Pedro/Desktop/mongodb/mongo.ipynb#X10sZmlsZQ%3D%3D?line=2'>3</a>\u001b[0m alunos\u001b[39m.\u001b[39;49minsert_one({\u001b[39m'\u001b[39;49m\u001b[39maluno\u001b[39;49m\u001b[39m'\u001b[39;49m: \u001b[39minput\u001b[39;49m(\u001b[39m'\u001b[39;49m\u001b[39mNome: \u001b[39;49m\u001b[39m'\u001b[39;49m), \u001b[39m'\u001b[39;49m\u001b[39mnascimento\u001b[39;49m\u001b[39m'\u001b[39;49m: data, \u001b[39m'\u001b[39;49m\u001b[39msexo\u001b[39;49m\u001b[39m'\u001b[39;49m:\u001b[39minput\u001b[39;49m(\u001b[39m\"\u001b[39;49m\u001b[39mSexo (M ou F): \u001b[39;49m\u001b[39m\"\u001b[39;49m)\u001b[39m.\u001b[39;49mstrip()\u001b[39m.\u001b[39;49mupper(), \u001b[39m'\u001b[39;49m\u001b[39mturma\u001b[39;49m\u001b[39m'\u001b[39;49m: \u001b[39minput\u001b[39;49m(\u001b[39m\"\u001b[39;49m\u001b[39mSemestre de entrada (sSaaa): \u001b[39;49m\u001b[39m\"\u001b[39;49m), \u001b[39m'\u001b[39;49m\u001b[39mcor_favorita\u001b[39;49m\u001b[39m'\u001b[39;49m: \u001b[39minput\u001b[39;49m(\u001b[39m\"\u001b[39;49m\u001b[39mCor favorita (#aaaaaa): \u001b[39;49m\u001b[39m\"\u001b[39;49m)})\n",
      "File \u001b[1;32mc:\\Users\\Pedro\\AppData\\Local\\Programs\\Python\\Python310\\lib\\site-packages\\pymongo\\collection.py:669\u001b[0m, in \u001b[0;36mCollection.insert_one\u001b[1;34m(self, document, bypass_document_validation, session, comment)\u001b[0m\n\u001b[0;32m    665\u001b[0m     document[\u001b[39m\"\u001b[39m\u001b[39m_id\u001b[39m\u001b[39m\"\u001b[39m] \u001b[39m=\u001b[39m ObjectId()  \u001b[39m# type: ignore[index]\u001b[39;00m\n\u001b[0;32m    667\u001b[0m write_concern \u001b[39m=\u001b[39m \u001b[39mself\u001b[39m\u001b[39m.\u001b[39m_write_concern_for(session)\n\u001b[0;32m    668\u001b[0m \u001b[39mreturn\u001b[39;00m InsertOneResult(\n\u001b[1;32m--> 669\u001b[0m     \u001b[39mself\u001b[39;49m\u001b[39m.\u001b[39;49m_insert_one(\n\u001b[0;32m    670\u001b[0m         document,\n\u001b[0;32m    671\u001b[0m         ordered\u001b[39m=\u001b[39;49m\u001b[39mTrue\u001b[39;49;00m,\n\u001b[0;32m    672\u001b[0m         write_concern\u001b[39m=\u001b[39;49mwrite_concern,\n\u001b[0;32m    673\u001b[0m         op_id\u001b[39m=\u001b[39;49m\u001b[39mNone\u001b[39;49;00m,\n\u001b[0;32m    674\u001b[0m         bypass_doc_val\u001b[39m=\u001b[39;49mbypass_document_validation,\n\u001b[0;32m    675\u001b[0m         session\u001b[39m=\u001b[39;49msession,\n\u001b[0;32m    676\u001b[0m         comment\u001b[39m=\u001b[39;49mcomment,\n\u001b[0;32m    677\u001b[0m     ),\n\u001b[0;32m    678\u001b[0m     write_concern\u001b[39m.\u001b[39macknowledged,\n\u001b[0;32m    679\u001b[0m )\n",
      "File \u001b[1;32mc:\\Users\\Pedro\\AppData\\Local\\Programs\\Python\\Python310\\lib\\site-packages\\pymongo\\collection.py:609\u001b[0m, in \u001b[0;36mCollection._insert_one\u001b[1;34m(self, doc, ordered, write_concern, op_id, bypass_doc_val, session, comment)\u001b[0m\n\u001b[0;32m    597\u001b[0m     result \u001b[39m=\u001b[39m conn\u001b[39m.\u001b[39mcommand(\n\u001b[0;32m    598\u001b[0m         \u001b[39mself\u001b[39m\u001b[39m.\u001b[39m__database\u001b[39m.\u001b[39mname,\n\u001b[0;32m    599\u001b[0m         command,\n\u001b[1;32m   (...)\u001b[0m\n\u001b[0;32m    604\u001b[0m         retryable_write\u001b[39m=\u001b[39mretryable_write,\n\u001b[0;32m    605\u001b[0m     )\n\u001b[0;32m    607\u001b[0m     _check_write_command_response(result)\n\u001b[1;32m--> 609\u001b[0m \u001b[39mself\u001b[39;49m\u001b[39m.\u001b[39;49m__database\u001b[39m.\u001b[39;49mclient\u001b[39m.\u001b[39;49m_retryable_write(acknowledged, _insert_command, session)\n\u001b[0;32m    611\u001b[0m \u001b[39mif\u001b[39;00m \u001b[39mnot\u001b[39;00m \u001b[39misinstance\u001b[39m(doc, RawBSONDocument):\n\u001b[0;32m    612\u001b[0m     \u001b[39mreturn\u001b[39;00m doc\u001b[39m.\u001b[39mget(\u001b[39m\"\u001b[39m\u001b[39m_id\u001b[39m\u001b[39m\"\u001b[39m)\n",
      "File \u001b[1;32mc:\\Users\\Pedro\\AppData\\Local\\Programs\\Python\\Python310\\lib\\site-packages\\pymongo\\mongo_client.py:1523\u001b[0m, in \u001b[0;36mMongoClient._retryable_write\u001b[1;34m(self, retryable, func, session, bulk)\u001b[0m\n\u001b[0;32m   1509\u001b[0m \u001b[39m\"\"\"Execute an operation with consecutive retries if possible\u001b[39;00m\n\u001b[0;32m   1510\u001b[0m \n\u001b[0;32m   1511\u001b[0m \u001b[39mReturns func()'s return value on success. On error retries the same\u001b[39;00m\n\u001b[1;32m   (...)\u001b[0m\n\u001b[0;32m   1520\u001b[0m \u001b[39m  - `bulk`: bulk abstraction to execute operations in bulk, defaults to None\u001b[39;00m\n\u001b[0;32m   1521\u001b[0m \u001b[39m\"\"\"\u001b[39;00m\n\u001b[0;32m   1522\u001b[0m \u001b[39mwith\u001b[39;00m \u001b[39mself\u001b[39m\u001b[39m.\u001b[39m_tmp_session(session) \u001b[39mas\u001b[39;00m s:\n\u001b[1;32m-> 1523\u001b[0m     \u001b[39mreturn\u001b[39;00m \u001b[39mself\u001b[39;49m\u001b[39m.\u001b[39;49m_retry_with_session(retryable, func, s, bulk)\n",
      "File \u001b[1;32mc:\\Users\\Pedro\\AppData\\Local\\Programs\\Python\\Python310\\lib\\site-packages\\pymongo\\mongo_client.py:1421\u001b[0m, in \u001b[0;36mMongoClient._retry_with_session\u001b[1;34m(self, retryable, func, session, bulk)\u001b[0m\n\u001b[0;32m   1416\u001b[0m \u001b[39m# Ensure that the options supports retry_writes and there is a valid session not in\u001b[39;00m\n\u001b[0;32m   1417\u001b[0m \u001b[39m# transaction, otherwise, we will not support retry behavior for this txn.\u001b[39;00m\n\u001b[0;32m   1418\u001b[0m retryable \u001b[39m=\u001b[39m \u001b[39mbool\u001b[39m(\n\u001b[0;32m   1419\u001b[0m     retryable \u001b[39mand\u001b[39;00m \u001b[39mself\u001b[39m\u001b[39m.\u001b[39moptions\u001b[39m.\u001b[39mretry_writes \u001b[39mand\u001b[39;00m session \u001b[39mand\u001b[39;00m \u001b[39mnot\u001b[39;00m session\u001b[39m.\u001b[39min_transaction\n\u001b[0;32m   1420\u001b[0m )\n\u001b[1;32m-> 1421\u001b[0m \u001b[39mreturn\u001b[39;00m \u001b[39mself\u001b[39;49m\u001b[39m.\u001b[39;49m_retry_internal(\n\u001b[0;32m   1422\u001b[0m     func\u001b[39m=\u001b[39;49mfunc,\n\u001b[0;32m   1423\u001b[0m     session\u001b[39m=\u001b[39;49msession,\n\u001b[0;32m   1424\u001b[0m     bulk\u001b[39m=\u001b[39;49mbulk,\n\u001b[0;32m   1425\u001b[0m     retryable\u001b[39m=\u001b[39;49mretryable,\n\u001b[0;32m   1426\u001b[0m )\n",
      "File \u001b[1;32mc:\\Users\\Pedro\\AppData\\Local\\Programs\\Python\\Python310\\lib\\site-packages\\pymongo\\_csot.py:107\u001b[0m, in \u001b[0;36mapply.<locals>.csot_wrapper\u001b[1;34m(self, *args, **kwargs)\u001b[0m\n\u001b[0;32m    105\u001b[0m         \u001b[39mwith\u001b[39;00m _TimeoutContext(timeout):\n\u001b[0;32m    106\u001b[0m             \u001b[39mreturn\u001b[39;00m func(\u001b[39mself\u001b[39m, \u001b[39m*\u001b[39margs, \u001b[39m*\u001b[39m\u001b[39m*\u001b[39mkwargs)\n\u001b[1;32m--> 107\u001b[0m \u001b[39mreturn\u001b[39;00m func(\u001b[39mself\u001b[39m, \u001b[39m*\u001b[39margs, \u001b[39m*\u001b[39m\u001b[39m*\u001b[39mkwargs)\n",
      "File \u001b[1;32mc:\\Users\\Pedro\\AppData\\Local\\Programs\\Python\\Python310\\lib\\site-packages\\pymongo\\mongo_client.py:1462\u001b[0m, in \u001b[0;36mMongoClient._retry_internal\u001b[1;34m(self, func, session, bulk, is_read, address, read_pref, retryable)\u001b[0m\n\u001b[0;32m   1428\u001b[0m \u001b[39m@_csot\u001b[39m\u001b[39m.\u001b[39mapply\n\u001b[0;32m   1429\u001b[0m \u001b[39mdef\u001b[39;00m \u001b[39m_retry_internal\u001b[39m(\n\u001b[0;32m   1430\u001b[0m     \u001b[39mself\u001b[39m,\n\u001b[1;32m   (...)\u001b[0m\n\u001b[0;32m   1437\u001b[0m     retryable: \u001b[39mbool\u001b[39m \u001b[39m=\u001b[39m \u001b[39mFalse\u001b[39;00m,\n\u001b[0;32m   1438\u001b[0m ) \u001b[39m-\u001b[39m\u001b[39m>\u001b[39m T:\n\u001b[0;32m   1439\u001b[0m     \u001b[39m\"\"\"Internal retryable helper for all client transactions.\u001b[39;00m\n\u001b[0;32m   1440\u001b[0m \n\u001b[0;32m   1441\u001b[0m \u001b[39m    :Parameters:\u001b[39;00m\n\u001b[1;32m   (...)\u001b[0m\n\u001b[0;32m   1451\u001b[0m \u001b[39m      Output of the calling func()\u001b[39;00m\n\u001b[0;32m   1452\u001b[0m \u001b[39m    \"\"\"\u001b[39;00m\n\u001b[0;32m   1453\u001b[0m     \u001b[39mreturn\u001b[39;00m _ClientConnectionRetryable(\n\u001b[0;32m   1454\u001b[0m         mongo_client\u001b[39m=\u001b[39;49m\u001b[39mself\u001b[39;49m,\n\u001b[0;32m   1455\u001b[0m         func\u001b[39m=\u001b[39;49mfunc,\n\u001b[0;32m   1456\u001b[0m         bulk\u001b[39m=\u001b[39;49mbulk,\n\u001b[0;32m   1457\u001b[0m         is_read\u001b[39m=\u001b[39;49mis_read,\n\u001b[0;32m   1458\u001b[0m         session\u001b[39m=\u001b[39;49msession,\n\u001b[0;32m   1459\u001b[0m         read_pref\u001b[39m=\u001b[39;49mread_pref,\n\u001b[0;32m   1460\u001b[0m         address\u001b[39m=\u001b[39;49maddress,\n\u001b[0;32m   1461\u001b[0m         retryable\u001b[39m=\u001b[39;49mretryable,\n\u001b[1;32m-> 1462\u001b[0m     )\u001b[39m.\u001b[39;49mrun()\n",
      "File \u001b[1;32mc:\\Users\\Pedro\\AppData\\Local\\Programs\\Python\\Python310\\lib\\site-packages\\pymongo\\mongo_client.py:2315\u001b[0m, in \u001b[0;36m_ClientConnectionRetryable.run\u001b[1;34m(self)\u001b[0m\n\u001b[0;32m   2313\u001b[0m \u001b[39mself\u001b[39m\u001b[39m.\u001b[39m_check_last_error(check_csot\u001b[39m=\u001b[39m\u001b[39mTrue\u001b[39;00m)\n\u001b[0;32m   2314\u001b[0m \u001b[39mtry\u001b[39;00m:\n\u001b[1;32m-> 2315\u001b[0m     \u001b[39mreturn\u001b[39;00m \u001b[39mself\u001b[39m\u001b[39m.\u001b[39m_read() \u001b[39mif\u001b[39;00m \u001b[39mself\u001b[39m\u001b[39m.\u001b[39m_is_read \u001b[39melse\u001b[39;00m \u001b[39mself\u001b[39;49m\u001b[39m.\u001b[39;49m_write()\n\u001b[0;32m   2316\u001b[0m \u001b[39mexcept\u001b[39;00m ServerSelectionTimeoutError:\n\u001b[0;32m   2317\u001b[0m     \u001b[39m# The application may think the write was never attempted\u001b[39;00m\n\u001b[0;32m   2318\u001b[0m     \u001b[39m# if we raise ServerSelectionTimeoutError on the retry\u001b[39;00m\n\u001b[0;32m   2319\u001b[0m     \u001b[39m# attempt. Raise the original exception instead.\u001b[39;00m\n\u001b[0;32m   2320\u001b[0m     \u001b[39mself\u001b[39m\u001b[39m.\u001b[39m_check_last_error()\n",
      "File \u001b[1;32mc:\\Users\\Pedro\\AppData\\Local\\Programs\\Python\\Python310\\lib\\site-packages\\pymongo\\mongo_client.py:2422\u001b[0m, in \u001b[0;36m_ClientConnectionRetryable._write\u001b[1;34m(self)\u001b[0m\n\u001b[0;32m   2420\u001b[0m             \u001b[39mself\u001b[39m\u001b[39m.\u001b[39m_check_last_error()\n\u001b[0;32m   2421\u001b[0m             \u001b[39mself\u001b[39m\u001b[39m.\u001b[39m_retryable \u001b[39m=\u001b[39m \u001b[39mFalse\u001b[39;00m\n\u001b[1;32m-> 2422\u001b[0m         \u001b[39mreturn\u001b[39;00m \u001b[39mself\u001b[39;49m\u001b[39m.\u001b[39;49m_func(\u001b[39mself\u001b[39;49m\u001b[39m.\u001b[39;49m_session, conn, \u001b[39mself\u001b[39;49m\u001b[39m.\u001b[39;49m_retryable)  \u001b[39m# type: ignore\u001b[39;00m\n\u001b[0;32m   2423\u001b[0m \u001b[39mexcept\u001b[39;00m PyMongoError \u001b[39mas\u001b[39;00m exc:\n\u001b[0;32m   2424\u001b[0m     \u001b[39mif\u001b[39;00m \u001b[39mnot\u001b[39;00m \u001b[39mself\u001b[39m\u001b[39m.\u001b[39m_retryable:\n",
      "File \u001b[1;32mc:\\Users\\Pedro\\AppData\\Local\\Programs\\Python\\Python310\\lib\\site-packages\\pymongo\\collection.py:597\u001b[0m, in \u001b[0;36mCollection._insert_one.<locals>._insert_command\u001b[1;34m(session, conn, retryable_write)\u001b[0m\n\u001b[0;32m    594\u001b[0m \u001b[39mif\u001b[39;00m bypass_doc_val:\n\u001b[0;32m    595\u001b[0m     command[\u001b[39m\"\u001b[39m\u001b[39mbypassDocumentValidation\u001b[39m\u001b[39m\"\u001b[39m] \u001b[39m=\u001b[39m \u001b[39mTrue\u001b[39;00m\n\u001b[1;32m--> 597\u001b[0m result \u001b[39m=\u001b[39m conn\u001b[39m.\u001b[39;49mcommand(\n\u001b[0;32m    598\u001b[0m     \u001b[39mself\u001b[39;49m\u001b[39m.\u001b[39;49m__database\u001b[39m.\u001b[39;49mname,\n\u001b[0;32m    599\u001b[0m     command,\n\u001b[0;32m    600\u001b[0m     write_concern\u001b[39m=\u001b[39;49mwrite_concern,\n\u001b[0;32m    601\u001b[0m     codec_options\u001b[39m=\u001b[39;49m\u001b[39mself\u001b[39;49m\u001b[39m.\u001b[39;49m__write_response_codec_options,\n\u001b[0;32m    602\u001b[0m     session\u001b[39m=\u001b[39;49msession,\n\u001b[0;32m    603\u001b[0m     client\u001b[39m=\u001b[39;49m\u001b[39mself\u001b[39;49m\u001b[39m.\u001b[39;49m__database\u001b[39m.\u001b[39;49mclient,\n\u001b[0;32m    604\u001b[0m     retryable_write\u001b[39m=\u001b[39;49mretryable_write,\n\u001b[0;32m    605\u001b[0m )\n\u001b[0;32m    607\u001b[0m _check_write_command_response(result)\n",
      "File \u001b[1;32mc:\\Users\\Pedro\\AppData\\Local\\Programs\\Python\\Python310\\lib\\site-packages\\pymongo\\helpers.py:322\u001b[0m, in \u001b[0;36m_handle_reauth.<locals>.inner\u001b[1;34m(*args, **kwargs)\u001b[0m\n\u001b[0;32m    319\u001b[0m \u001b[39mfrom\u001b[39;00m \u001b[39mpymongo\u001b[39;00m\u001b[39m.\u001b[39;00m\u001b[39mpool\u001b[39;00m \u001b[39mimport\u001b[39;00m Connection\n\u001b[0;32m    321\u001b[0m \u001b[39mtry\u001b[39;00m:\n\u001b[1;32m--> 322\u001b[0m     \u001b[39mreturn\u001b[39;00m func(\u001b[39m*\u001b[39margs, \u001b[39m*\u001b[39m\u001b[39m*\u001b[39mkwargs)\n\u001b[0;32m    323\u001b[0m \u001b[39mexcept\u001b[39;00m OperationFailure \u001b[39mas\u001b[39;00m exc:\n\u001b[0;32m    324\u001b[0m     \u001b[39mif\u001b[39;00m no_reauth:\n",
      "File \u001b[1;32mc:\\Users\\Pedro\\AppData\\Local\\Programs\\Python\\Python310\\lib\\site-packages\\pymongo\\pool.py:996\u001b[0m, in \u001b[0;36mConnection.command\u001b[1;34m(self, dbname, spec, read_preference, codec_options, check, allowable_errors, read_concern, write_concern, parse_write_concern_error, collation, session, client, retryable_write, publish_events, user_fields, exhaust_allowed)\u001b[0m\n\u001b[0;32m    994\u001b[0m \u001b[39m# Catch socket.error, KeyboardInterrupt, etc. and close ourselves.\u001b[39;00m\n\u001b[0;32m    995\u001b[0m \u001b[39mexcept\u001b[39;00m \u001b[39mBaseException\u001b[39;00m \u001b[39mas\u001b[39;00m error:\n\u001b[1;32m--> 996\u001b[0m     \u001b[39mself\u001b[39;49m\u001b[39m.\u001b[39;49m_raise_connection_failure(error)\n",
      "File \u001b[1;32mc:\\Users\\Pedro\\AppData\\Local\\Programs\\Python\\Python310\\lib\\site-packages\\pymongo\\pool.py:968\u001b[0m, in \u001b[0;36mConnection.command\u001b[1;34m(self, dbname, spec, read_preference, codec_options, check, allowable_errors, read_concern, write_concern, parse_write_concern_error, collation, session, client, retryable_write, publish_events, user_fields, exhaust_allowed)\u001b[0m\n\u001b[0;32m    966\u001b[0m     \u001b[39mself\u001b[39m\u001b[39m.\u001b[39m_raise_if_not_writable(unacknowledged)\n\u001b[0;32m    967\u001b[0m \u001b[39mtry\u001b[39;00m:\n\u001b[1;32m--> 968\u001b[0m     \u001b[39mreturn\u001b[39;00m command(\n\u001b[0;32m    969\u001b[0m         \u001b[39mself\u001b[39;49m,\n\u001b[0;32m    970\u001b[0m         dbname,\n\u001b[0;32m    971\u001b[0m         spec,\n\u001b[0;32m    972\u001b[0m         \u001b[39mself\u001b[39;49m\u001b[39m.\u001b[39;49mis_mongos,\n\u001b[0;32m    973\u001b[0m         read_preference,\n\u001b[0;32m    974\u001b[0m         codec_options,\n\u001b[0;32m    975\u001b[0m         session,\n\u001b[0;32m    976\u001b[0m         client,\n\u001b[0;32m    977\u001b[0m         check,\n\u001b[0;32m    978\u001b[0m         allowable_errors,\n\u001b[0;32m    979\u001b[0m         \u001b[39mself\u001b[39;49m\u001b[39m.\u001b[39;49maddress,\n\u001b[0;32m    980\u001b[0m         listeners,\n\u001b[0;32m    981\u001b[0m         \u001b[39mself\u001b[39;49m\u001b[39m.\u001b[39;49mmax_bson_size,\n\u001b[0;32m    982\u001b[0m         read_concern,\n\u001b[0;32m    983\u001b[0m         parse_write_concern_error\u001b[39m=\u001b[39;49mparse_write_concern_error,\n\u001b[0;32m    984\u001b[0m         collation\u001b[39m=\u001b[39;49mcollation,\n\u001b[0;32m    985\u001b[0m         compression_ctx\u001b[39m=\u001b[39;49m\u001b[39mself\u001b[39;49m\u001b[39m.\u001b[39;49mcompression_context,\n\u001b[0;32m    986\u001b[0m         use_op_msg\u001b[39m=\u001b[39;49m\u001b[39mself\u001b[39;49m\u001b[39m.\u001b[39;49mop_msg_enabled,\n\u001b[0;32m    987\u001b[0m         unacknowledged\u001b[39m=\u001b[39;49munacknowledged,\n\u001b[0;32m    988\u001b[0m         user_fields\u001b[39m=\u001b[39;49muser_fields,\n\u001b[0;32m    989\u001b[0m         exhaust_allowed\u001b[39m=\u001b[39;49mexhaust_allowed,\n\u001b[0;32m    990\u001b[0m         write_concern\u001b[39m=\u001b[39;49mwrite_concern,\n\u001b[0;32m    991\u001b[0m     )\n\u001b[0;32m    992\u001b[0m \u001b[39mexcept\u001b[39;00m (OperationFailure, NotPrimaryError):\n\u001b[0;32m    993\u001b[0m     \u001b[39mraise\u001b[39;00m\n",
      "File \u001b[1;32mc:\\Users\\Pedro\\AppData\\Local\\Programs\\Python\\Python310\\lib\\site-packages\\pymongo\\network.py:151\u001b[0m, in \u001b[0;36mcommand\u001b[1;34m(conn, dbname, spec, is_mongos, read_preference, codec_options, session, client, check, allowable_errors, address, listeners, max_bson_size, read_concern, parse_write_concern_error, collation, compression_ctx, use_op_msg, unacknowledged, user_fields, exhaust_allowed, write_concern)\u001b[0m\n\u001b[0;32m    149\u001b[0m flags \u001b[39m=\u001b[39m _OpMsg\u001b[39m.\u001b[39mMORE_TO_COME \u001b[39mif\u001b[39;00m unacknowledged \u001b[39melse\u001b[39;00m \u001b[39m0\u001b[39m\n\u001b[0;32m    150\u001b[0m flags \u001b[39m|\u001b[39m\u001b[39m=\u001b[39m _OpMsg\u001b[39m.\u001b[39mEXHAUST_ALLOWED \u001b[39mif\u001b[39;00m exhaust_allowed \u001b[39melse\u001b[39;00m \u001b[39m0\u001b[39m\n\u001b[1;32m--> 151\u001b[0m request_id, msg, size, max_doc_size \u001b[39m=\u001b[39m message\u001b[39m.\u001b[39;49m_op_msg(\n\u001b[0;32m    152\u001b[0m     flags, spec, dbname, read_preference, codec_options, ctx\u001b[39m=\u001b[39;49mcompression_ctx\n\u001b[0;32m    153\u001b[0m )\n\u001b[0;32m    154\u001b[0m \u001b[39m# If this is an unacknowledged write then make sure the encoded doc(s)\u001b[39;00m\n\u001b[0;32m    155\u001b[0m \u001b[39m# are small enough, otherwise rely on the server to return an error.\u001b[39;00m\n\u001b[0;32m    156\u001b[0m \u001b[39mif\u001b[39;00m unacknowledged \u001b[39mand\u001b[39;00m max_bson_size \u001b[39mis\u001b[39;00m \u001b[39mnot\u001b[39;00m \u001b[39mNone\u001b[39;00m \u001b[39mand\u001b[39;00m max_doc_size \u001b[39m>\u001b[39m max_bson_size:\n",
      "File \u001b[1;32mc:\\Users\\Pedro\\AppData\\Local\\Programs\\Python\\Python310\\lib\\site-packages\\pymongo\\message.py:762\u001b[0m, in \u001b[0;36m_op_msg\u001b[1;34m(flags, command, dbname, read_preference, opts, ctx)\u001b[0m\n\u001b[0;32m    760\u001b[0m     \u001b[39mif\u001b[39;00m ctx:\n\u001b[0;32m    761\u001b[0m         \u001b[39mreturn\u001b[39;00m _op_msg_compressed(flags, command, identifier, docs, opts, ctx)\n\u001b[1;32m--> 762\u001b[0m     \u001b[39mreturn\u001b[39;00m _op_msg_uncompressed(flags, command, identifier, docs, opts)\n\u001b[0;32m    763\u001b[0m \u001b[39mfinally\u001b[39;00m:\n\u001b[0;32m    764\u001b[0m     \u001b[39m# Add the field back to the command.\u001b[39;00m\n\u001b[0;32m    765\u001b[0m     \u001b[39mif\u001b[39;00m identifier:\n",
      "\u001b[1;31mInvalidDocument\u001b[0m: cannot encode object: datetime.date(1992, 8, 26), of type: <class 'datetime.date'>"
     ]
    }
   ],
   "source": [
    "#tkinter.colorchooser.askcolor()[1]\n",
    "data = datetime.datetime(int(input(\"Ano de nascimento: \")), int(input(\"Mês de nascimento: \")), int(input(\"Dia de nascimento: \")))\n",
    "alunos.insert_one({'aluno': input('Nome: '), 'nascimento': data, 'sexo':input(\"Sexo (M ou F): \").strip().upper(), 'turma': input(\"Semestre de entrada (sSaaa): \"), 'cor_favorita': input(\"Cor favorita (#aaaaaa): \")})"
   ]
  },
  {
   "cell_type": "code",
   "execution_count": 22,
   "metadata": {},
   "outputs": [
    {
     "name": "stdout",
     "output_type": "stream",
     "text": [
      "{'_id': ObjectId('655136dbe72e667fd3525095'), 'aluno': 'Pedro Henrique Botter', 'nascimento': datetime.datetime(2004, 11, 1, 0, 0), 'sexo': 'M', 'turma': '1S2023', 'cor_favorita': '#fdb3ea'}\n",
      "{'_id': ObjectId('65513c99e72e667fd3525096'), 'aluno': 'Grasiely da Silva Amaral', 'nascimento': datetime.datetime(2005, 3, 28, 0, 0), 'sexo': 'F', 'turma': '1S2023', 'cor_favorita': '#0e4db3'}\n",
      "{'_id': ObjectId('65513c99e72e667fd3525097'), 'aluno': 'Rodrigo Flores Duarte', 'nascimento': datetime.datetime(2000, 3, 13, 0, 0), 'sexo': 'M', 'turma': '1S2023', 'cor_favorita': '#4272f5'}\n",
      "{'_id': ObjectId('655164408bad490b8ef81d6b'), 'aluno': 'George', 'nascimento': datetime.datetime(1983, 7, 16, 0, 0), 'sexo': 'M', 'turma': '1s2021', 'cor_favorita': '#4a5eb8'}\n",
      "{'_id': ObjectId('6551667f8bad490b8ef81d6c'), 'aluno': 'Lesley', 'nascimento': datetime.datetime(2002, 4, 12, 0, 0), 'sexo': 'F', 'turma': '2S2020', 'cor_favorita': '#9022c7'}\n"
     ]
    }
   ],
   "source": [
    "# Mostrar a tabela, é necessário colocar os 1 para que não ocorram erros \n",
    "for x in alunos.find({},{ \"aluno\": 1, 'nascimento': 1, \"sexo\": 1, \"turma\":1, 'cor_favorita':1}):\n",
    "  print(x)"
   ]
  },
  {
   "cell_type": "code",
   "execution_count": null,
   "metadata": {},
   "outputs": [],
   "source": []
  },
  {
   "cell_type": "code",
   "execution_count": null,
   "metadata": {},
   "outputs": [],
   "source": []
  }
 ],
 "metadata": {
  "kernelspec": {
   "display_name": "Python 3",
   "language": "python",
   "name": "python3"
  },
  "language_info": {
   "codemirror_mode": {
    "name": "ipython",
    "version": 3
   },
   "file_extension": ".py",
   "mimetype": "text/x-python",
   "name": "python",
   "nbconvert_exporter": "python",
   "pygments_lexer": "ipython3",
   "version": "3.10.6"
  }
 },
 "nbformat": 4,
 "nbformat_minor": 2
}
